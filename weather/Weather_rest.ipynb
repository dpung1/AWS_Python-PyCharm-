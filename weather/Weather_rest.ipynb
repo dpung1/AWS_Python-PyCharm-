{
 "cells": [
  {
   "cell_type": "code",
   "execution_count": 1,
   "metadata": {},
   "outputs": [
    {
     "name": "stdout",
     "output_type": "stream",
     "text": [
      "b'{\"response\":{\"header\":{\"resultCode\":\"99\",\"resultMsg\":\"\\xec\\xb5\\x9c\\xeb\\x8c\\x80 \\xec\\xa1\\xb0\\xed\\x9a\\x8c \\xea\\xb8\\xb0\\xea\\xb0\\x84\\xec\\x9d\\x80 \\xec\\x98\\xa4\\xeb\\x8a\\x98 \\xea\\xb8\\xb0\\xec\\xa4\\x80\\xec\\x9c\\xbc\\xeb\\xa1\\x9c 1\\xec\\x9d\\xbc \\xec\\xa0\\x84\\xea\\xb9\\x8c\\xec\\xa7\\x80\\xec\\x9e\\x85\\xeb\\x8b\\x88\\xeb\\x8b\\xa4.\"}}}'\n",
      "{'response': {'header': {'resultCode': '99', 'resultMsg': '최대 조회 기간은 오늘 기준으로 1일 전까지입니다.'}}}\n"
     ]
    }
   ],
   "source": [
    "# Python3 샘플 코드 #\n",
    "\n",
    "\n",
    "import requests\n",
    "\n",
    "url = 'http://apis.data.go.kr/1360000/MidFcstInfoService/getMidLandFcst'\n",
    "params ={'serviceKey' : 'qzfWPb0C1uAewsDwCzC30M6TU5cdOcVSGPO5zCEuqvUaIApZ2yHzxGKw6cZ5CYfINgt3SDd3p4dnXacA3SuKwg==', \n",
    "            'pageNo' : '1', \n",
    "            'numOfRows' : '10', \n",
    "            'dataType' : 'JSON', \n",
    "            'regId' : '11H20000', \n",
    "            'tmFc' : '202309150600' }\n",
    "\n",
    "response = requests.get(url, params=params)\n",
    "response.encoding = 'utf-8'\n",
    "print(response.content)\n",
    "responseDict = eval(response.content)\n",
    "print(responseDict)\n"
   ]
  }
 ],
 "metadata": {
  "kernelspec": {
   "display_name": "base",
   "language": "python",
   "name": "python3"
  },
  "language_info": {
   "codemirror_mode": {
    "name": "ipython",
    "version": 3
   },
   "file_extension": ".py",
   "mimetype": "text/x-python",
   "name": "python",
   "nbconvert_exporter": "python",
   "pygments_lexer": "ipython3",
   "version": "3.11.5"
  },
  "orig_nbformat": 4
 },
 "nbformat": 4,
 "nbformat_minor": 2
}
