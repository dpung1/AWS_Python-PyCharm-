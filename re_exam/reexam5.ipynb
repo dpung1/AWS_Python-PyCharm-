{
 "cells": [
  {
   "cell_type": "code",
   "execution_count": 28,
   "metadata": {},
   "outputs": [],
   "source": [
    "from selenium import webdriver\n",
    "from selenium.webdriver.common.keys import Keys\n",
    "from selenium.webdriver.common.by import By\n",
    "import time\n",
    "import json\n",
    "\n",
    "driver = webdriver.Chrome()\n",
    "# 네이버 웹툰 창 로딩\n",
    "driver.get(\"https://data.go.kr/index.do\")\n",
    "\n",
    "time.sleep(1)\n",
    "\n",
    "searchValue = input(\"어떤 공공데이터를 찾으시나요? \")\n",
    "\n",
    "searchInput = driver.find_element(by=By.XPATH, value='//*[@id=\"keyword\"]')\n",
    "searchInput.send_keys(searchValue) \n",
    "searchInput.send_keys(Keys.RETURN)\n",
    "\n",
    "buttonClikc = driver.find_element(by=By.XPATH, value='//*[@id=\"dTypeAPI\"]').click()\n",
    "\n",
    "data_list = []\n",
    "\n",
    "for i in range(2, 6):\n",
    "    driver.find_element(by=By.XPATH, value=f'//*[@id=\"apiDataList\"]/nav/a[{i}]').click()\n",
    "    time.sleep(1)\n",
    "\n",
    "    result_list = driver.find_elements(by=By.CSS_SELECTOR, value='.result-list li')\n",
    "    for li in result_list:\n",
    "        title = li.find_element(by=By.CSS_SELECTOR, value='span.title').text\n",
    "        provider_organiztion = li.find_element(by=By.CSS_SELECTOR, value='p:nth-child(1) > span.data').text\n",
    "        update_date = li.find_element(by=By.CSS_SELECTOR, value='p:nth-child(2) > span.data').text\n",
    "        hits = li.find_element(by=By.CSS_SELECTOR, value='p:nth-child(3) > span.data').text\n",
    "        request_count = li.find_element(by=By.CSS_SELECTOR, value='p:nth-child(4) > span.data').text\n",
    "        keyword = li.find_element(by=By.CSS_SELECTOR, value='p:nth-child(5)').text.replace(\"키워드 \", \"\")\n",
    "        \n",
    "        data = {\n",
    "            \"title\": title,\n",
    "            \"provider_organiztion\": provider_organiztion,\n",
    "            \"update_date\": update_date,\n",
    "            \"hits\": int(hits),\n",
    "            \"request_count\": int(request_count),\n",
    "            \"keyword\": keyword\n",
    "        }\n",
    "\n",
    "        data_list.append(data)\n",
    "\n",
    "with open(\"data.json\", \"w\", encoding=\"utf-8\") as f:\n",
    "    json.dump(data_list, f, indent=4, ensure_ascii=False)"
   ]
  },
  {
   "cell_type": "markdown",
   "metadata": {},
   "source": []
  }
 ],
 "metadata": {
  "kernelspec": {
   "display_name": "base",
   "language": "python",
   "name": "python3"
  },
  "language_info": {
   "codemirror_mode": {
    "name": "ipython",
    "version": 3
   },
   "file_extension": ".py",
   "mimetype": "text/x-python",
   "name": "python",
   "nbconvert_exporter": "python",
   "pygments_lexer": "ipython3",
   "version": "3.11.5"
  },
  "orig_nbformat": 4
 },
 "nbformat": 4,
 "nbformat_minor": 2
}
