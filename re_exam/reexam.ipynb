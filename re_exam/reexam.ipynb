{
 "cells": [
  {
   "cell_type": "code",
   "execution_count": 23,
   "metadata": {},
   "outputs": [
    {
     "name": "stdout",
     "output_type": "stream",
     "text": [
      "[ 입력 데이터 ]  => \t799가 1234\n",
      "[ 딕셔너리 변환 ]  => \t{'type': 799, 'purpose': '가', 'number': 1234}\n",
      "[ 차량 정보 ]  => \t{'type': '승합차', 'purpose': '비사업용 차량', 'number': 1234}\n"
     ]
    }
   ],
   "source": [
    "inputValue = input(\"차량 번호 입력 : \")\n",
    "\n",
    "car_number ={ \n",
    "    \"type\": int(inputValue[:inputValue.find(\" \") - 1]),\n",
    "    \"purpose\": inputValue[inputValue.find(\" \") - 1:inputValue.find(\" \")],\n",
    "    \"number\": int(inputValue[inputValue.find(\" \") + 1:])\n",
    "}\n",
    "\n",
    "print(\"[ 입력 데이터 ]  => \", end=\"\\t\")\n",
    "print(inputValue)\n",
    "\n",
    "print(\"[ 딕셔너리 변환 ]  => \", end=\"\\t\")\n",
    "print(car_number)\n",
    "\n",
    "def in_range(n, start, end = 0):\n",
    "    return start <= n <= end if end >= start else end <= n <= start\n",
    "\n",
    "car_info = {\n",
    "    \"type\": None,\n",
    "    \"purpose\": None,\n",
    "    \"number\": car_number[\"number\"]\n",
    "}\n",
    "\n",
    "if in_range(car_number.get(\"type\"), 100, 699):\n",
    "    car_info[\"type\"] = \"승용차\"\n",
    "elif in_range(car_number.get(\"type\"), 700, 799):\n",
    "    car_info[\"type\"] = \"승합차\"\n",
    "elif in_range(car_number.get(\"type\"), 800, 879):\n",
    "    car_info[\"type\"] = \"화물차\"\n",
    "elif in_range(car_number.get(\"type\"), 980, 997):\n",
    "    car_info[\"type\"] = \"특수차\"\n",
    "elif in_range(car_number.get(\"type\"), 998, 999):\n",
    "    car_info[\"type\"] = \"긴급차\"\n",
    "else:\n",
    "    car_info[\"type\"] = \"오류\"\n",
    "\n",
    "purpose1 = \"가나다라마거너더러머버서어저고노도로모보소오조구누두루무부수우주\"\n",
    "purpose2 = \"아바사자\"\n",
    "purpose3 = \"배\"\n",
    "purpose4 = \"허하호\"\n",
    "\n",
    "if purpose1.find(car_number.get(\"purpose\")) != -1:\n",
    "    car_info[\"purpose\"] = \"비사업용 차량\"\n",
    "elif purpose2.find(car_number.get(\"purpose\")) != -1:\n",
    "    car_info[\"purpose\"] = \"운수사업용 차량\"\n",
    "elif purpose3.find(car_number.get(\"purpose\")) != -1:\n",
    "    car_info[\"purpose\"] = \"택배 차량\"\n",
    "elif purpose4.find(car_number.get(\"purpose\")) != -1:\n",
    "    car_info[\"purpose\"] = \"렌터 차량\"\n",
    "else:\n",
    "    car_info[\"purpose\"] = \"오류\"\n",
    "\n",
    "print(\"[ 차량 정보 ]  => \", end=\"\\t\")\n",
    "print(car_info)\n",
    "\n"
   ]
  }
 ],
 "metadata": {
  "kernelspec": {
   "display_name": "base",
   "language": "python",
   "name": "python3"
  },
  "language_info": {
   "codemirror_mode": {
    "name": "ipython",
    "version": 3
   },
   "file_extension": ".py",
   "mimetype": "text/x-python",
   "name": "python",
   "nbconvert_exporter": "python",
   "pygments_lexer": "ipython3",
   "version": "3.11.5"
  },
  "orig_nbformat": 4
 },
 "nbformat": 4,
 "nbformat_minor": 2
}
