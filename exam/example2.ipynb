{
 "cells": [
  {
   "cell_type": "code",
   "execution_count": 299,
   "metadata": {},
   "outputs": [
    {
     "name": "stdout",
     "output_type": "stream",
     "text": [
      "값을 입력해주세요.\n",
      "마지막은 0을 입력해주세요.\n"
     ]
    },
    {
     "name": "stdout",
     "output_type": "stream",
     "text": [
      "종가 평균 : 10520.0\n"
     ]
    }
   ],
   "source": [
    "inputValues = []\n",
    "print(\"값을 입력해주세요.\")\n",
    "print(\"마지막은 0을 입력해주세요.\")\n",
    "while(True):\n",
    "    inputValue = int(input(\"종가 입력 : \"))\n",
    "    if(inputValue == 0):\n",
    "        break\n",
    "    inputValues.append(inputValue)\n",
    "\n",
    "inputValue = input(\"엔터 입력\")\n",
    "\n",
    "mean = sum(inputValues) / len(inputValues)\n",
    "print(\"종가 평균 :\", mean)\n",
    "\n"
   ]
  }
 ],
 "metadata": {
  "kernelspec": {
   "display_name": "base",
   "language": "python",
   "name": "python3"
  },
  "language_info": {
   "codemirror_mode": {
    "name": "ipython",
    "version": 3
   },
   "file_extension": ".py",
   "mimetype": "text/x-python",
   "name": "python",
   "nbconvert_exporter": "python",
   "pygments_lexer": "ipython3",
   "version": "3.11.5"
  },
  "orig_nbformat": 4
 },
 "nbformat": 4,
 "nbformat_minor": 2
}
