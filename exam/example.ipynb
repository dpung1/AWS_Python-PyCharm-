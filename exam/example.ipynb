{
 "cells": [
  {
   "cell_type": "code",
   "execution_count": 14,
   "metadata": {},
   "outputs": [
    {
     "name": "stdout",
     "output_type": "stream",
     "text": [
      "Empty DataFrame\n",
      "Columns: []\n",
      "Index: []\n"
     ]
    }
   ],
   "source": [
    "import pandas as pd\n",
    "import time\n",
    "\n",
    "from selenium import  webdriver\n",
    "from selenium.webdriver.common.keys import Keys\n",
    "from selenium.webdriver.common.by import By\n",
    "\n",
    "driver = webdriver.Chrome()\n",
    "driver.get(\"https://www.data.go.kr/index.do\")\n",
    "time.sleep(1)\n",
    "\n",
    "searchValue = input(\"어떤 공공데이터를 찾으시나요?\")\n",
    "\n",
    "seachInput = driver.find_element(by=By.CSS_SELECTOR,value=\"#keyword\")\n",
    "seachInput.send_keys(searchValue)\n",
    "seachInput.send_keys(Keys.ENTER)\n",
    "time.sleep(2)\n",
    "\n",
    "driver.find_element(by=By.XPATH, value='//*[@id=\"dTypeAPI\"]/a').click()\n",
    "\n",
    "result_items = driver.find_elements(by=By.CSS_SELECTOR, value='.result-list')\n",
    "result_items_list = []\n",
    "\n",
    "for item in result_items:\n",
    "    title = item.find_element(by=By.CSS_SELECTOR, value='.title').text\n",
    "    # provider_organization = item.find_element(by=By.CSS_SELECTOR, value='data').text,\n",
    "    # update_data = item.find_element(by=By.CSS_SELECTOR, value='title').text,\n",
    "    # hits = item.find_element(by=By.CSS_SELECTOR, value='title').text,\n",
    "    # request_count = item.find_element(by=By.CSS_SELECTOR, value='title').text,\n",
    "    # keyword = item.find_element(by=By.CSS_SELECTOR, value='title').text\n",
    "\n",
    "    item_dict = {\n",
    "        \"title\": title\n",
    "    }\n",
    "    result_items_list.append(item_dict)\n",
    "\n",
    "df = pd.DataFrame(result_items_list)\n",
    "print(df)\n",
    "\n"
   ]
  }
 ],
 "metadata": {
  "kernelspec": {
   "display_name": "base",
   "language": "python",
   "name": "python3"
  },
  "language_info": {
   "codemirror_mode": {
    "name": "ipython",
    "version": 3
   },
   "file_extension": ".py",
   "mimetype": "text/x-python",
   "name": "python",
   "nbconvert_exporter": "python",
   "pygments_lexer": "ipython3",
   "version": "3.11.5"
  },
  "orig_nbformat": 4
 },
 "nbformat": 4,
 "nbformat_minor": 2
}
