{
 "cells": [
  {
   "cell_type": "code",
   "execution_count": 1,
   "metadata": {},
   "outputs": [
    {
     "name": "stdout",
     "output_type": "stream",
     "text": [
      "[[6. 6. 6. 6. 6.]\n",
      " [6. 6. 6. 6. 6.]\n",
      " [6. 6. 6. 6. 6.]\n",
      " [6. 6. 6. 6. 6.]\n",
      " [6. 6. 6. 6. 6.]]\n",
      "[[36.  6.  6.  6. 36.]\n",
      " [ 6. 36.  6. 36.  6.]\n",
      " [ 6.  6. 36.  6.  6.]\n",
      " [ 6. 36.  6. 36.  6.]\n",
      " [36.  6.  6.  6. 36.]]\n"
     ]
    }
   ],
   "source": [
    "import numpy as np\n",
    "\n",
    "np_array1 = np.ones([5] * 2)\n",
    "np_array2 = np.array([[5, 5, 5, 5, 5]] * 5)\n",
    "np_array3 = np.array([[6, 1, 1, 1, 6],\n",
    "                      [1, 6, 1, 6, 1],\n",
    "                      [1, 1, 6, 1, 1],\n",
    "                      [1, 6, 1, 6, 1],\n",
    "                      [6, 1, 1, 1, 6]])\n",
    "\n",
    "\n",
    "result1 = np_array1 + np_array2\n",
    "result2 = result1 * np_array3\n",
    "\n",
    "print(result1)\n",
    "print(result2)\n"
   ]
  }
 ],
 "metadata": {
  "kernelspec": {
   "display_name": "base",
   "language": "python",
   "name": "python3"
  },
  "language_info": {
   "codemirror_mode": {
    "name": "ipython",
    "version": 3
   },
   "file_extension": ".py",
   "mimetype": "text/x-python",
   "name": "python",
   "nbconvert_exporter": "python",
   "pygments_lexer": "ipython3",
   "version": "3.11.5"
  },
  "orig_nbformat": 4
 },
 "nbformat": 4,
 "nbformat_minor": 2
}
