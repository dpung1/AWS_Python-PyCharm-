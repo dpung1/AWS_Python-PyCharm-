{
 "cells": [
  {
   "cell_type": "code",
   "execution_count": 68,
   "metadata": {},
   "outputs": [
    {
     "name": "stdout",
     "output_type": "stream",
     "text": [
      "{'response': {'header': {'resultCode': '00', 'resultMsg': 'NORMAL_SERVICE'}, 'body': {'dataType': 'JSON', 'items': {'item': [{'regId': '11G00201', 'taMin3': 22, 'taMin3Low': 1, 'taMin3High': 2, 'taMax3': 27, 'taMax3Low': 1, 'taMax3High': 1, 'taMin4': 23, 'taMin4Low': 1, 'taMin4High': 1, 'taMax4': 27, 'taMax4Low': 1, 'taMax4High': 1, 'taMin5': 23, 'taMin5Low': 1, 'taMin5High': 1, 'taMax5': 28, 'taMax5Low': 1, 'taMax5High': 1, 'taMin6': 23, 'taMin6Low': 2, 'taMin6High': 1, 'taMax6': 28, 'taMax6Low': 1, 'taMax6High': 1, 'taMin7': 23, 'taMin7Low': 1, 'taMin7High': 1, 'taMax7': 27, 'taMax7Low': 1, 'taMax7High': 1, 'taMin8': 22, 'taMin8Low': 0, 'taMin8High': 1, 'taMax8': 26, 'taMax8Low': 0, 'taMax8High': 1, 'taMin9': 21, 'taMin9Low': 0, 'taMin9High': 2, 'taMax9': 25, 'taMax9Low': 0, 'taMax9High': 1, 'taMin10': 19, 'taMin10Low': 0, 'taMin10High': 1, 'taMax10': 25, 'taMax10Low': 0, 'taMax10High': 1}]}, 'pageNo': 1, 'numOfRows': 10, 'totalCount': 1}}}\n"
     ]
    },
    {
     "ename": "AttributeError",
     "evalue": "'list' object has no attribute 'keys'",
     "output_type": "error",
     "traceback": [
      "\u001b[0;31m---------------------------------------------------------------------------\u001b[0m",
      "\u001b[0;31mAttributeError\u001b[0m                            Traceback (most recent call last)",
      "\u001b[1;32m/Users/dp/AWS/python/basic/exam/example4.ipynb 셀 1\u001b[0m line \u001b[0;36m2\n\u001b[1;32m     <a href='vscode-notebook-cell:/Users/dp/AWS/python/basic/exam/example4.ipynb#W0sZmlsZQ%3D%3D?line=20'>21</a>\u001b[0m \u001b[39m# with open(\"webtoon.json\", \"w\", encoding=\"utf-8\") as f:\u001b[39;00m\n\u001b[1;32m     <a href='vscode-notebook-cell:/Users/dp/AWS/python/basic/exam/example4.ipynb#W0sZmlsZQ%3D%3D?line=21'>22</a>\u001b[0m \u001b[39m#     json.dump(responseDict, f, indent=4, ensure_ascii=False)\u001b[39;00m\n\u001b[1;32m     <a href='vscode-notebook-cell:/Users/dp/AWS/python/basic/exam/example4.ipynb#W0sZmlsZQ%3D%3D?line=23'>24</a>\u001b[0m a \u001b[39m=\u001b[39m responseDict[\u001b[39m'\u001b[39m\u001b[39mresponse\u001b[39m\u001b[39m'\u001b[39m][\u001b[39m'\u001b[39m\u001b[39mbody\u001b[39m\u001b[39m'\u001b[39m][\u001b[39m'\u001b[39m\u001b[39mitems\u001b[39m\u001b[39m'\u001b[39m][\u001b[39m'\u001b[39m\u001b[39mitem\u001b[39m\u001b[39m'\u001b[39m]\n\u001b[0;32m---> <a href='vscode-notebook-cell:/Users/dp/AWS/python/basic/exam/example4.ipynb#W0sZmlsZQ%3D%3D?line=25'>26</a>\u001b[0m \u001b[39mfor\u001b[39;00m key \u001b[39min\u001b[39;00m a\u001b[39m.\u001b[39mkeys():\n\u001b[1;32m     <a href='vscode-notebook-cell:/Users/dp/AWS/python/basic/exam/example4.ipynb#W0sZmlsZQ%3D%3D?line=26'>27</a>\u001b[0m     \u001b[39mprint\u001b[39m(key)\n",
      "\u001b[0;31mAttributeError\u001b[0m: 'list' object has no attribute 'keys'"
     ]
    }
   ],
   "source": [
    "import requests\n",
    "import matplotlib.pyplot as plt\n",
    "import pandas as pd\n",
    "import json\n",
    "\n",
    "\n",
    "url = 'http://apis.data.go.kr/1360000/MidFcstInfoService/getMidTa'\n",
    "params ={'serviceKey' : 'qzfWPb0C1uAewsDwCzC30M6TU5cdOcVSGPO5zCEuqvUaIApZ2yHzxGKw6cZ5CYfINgt3SDd3p4dnXacA3SuKwg==', \n",
    "            'pageNo' : '1', \n",
    "            'numOfRows' : '10', \n",
    "            'dataType' : 'JSON', \n",
    "            'regId' : '11G00201', \n",
    "            'tmFc' : '202309200600' }\n",
    "\n",
    "response = requests.get(url, params=params)\n",
    "response.encoding = 'utf-8'\n",
    "# print(response.content)\n",
    "responseDict = eval(response.content)\n",
    "print(responseDict)\n",
    "\n",
    "# with open(\"webtoon.json\", \"w\", encoding=\"utf-8\") as f:\n",
    "#     json.dump(responseDict, f, indent=4, ensure_ascii=False)\n",
    "\n",
    "a = responseDict['response']['body']['items']['item']\n",
    "\n",
    "# print(items)\n",
    "\n",
    "\n",
    "\n",
    "# figure = plt.figure()\n",
    "# axes = figure.add_subplot(111)\n",
    "\n",
    "# label = []\n",
    "# data = [ ]\n",
    "\n",
    "# axes.pie(data, labels=label)\n",
    "# plt.show()\n",
    "\n",
    "\n",
    "\n"
   ]
  },
  {
   "cell_type": "code",
   "execution_count": null,
   "metadata": {},
   "outputs": [],
   "source": []
  }
 ],
 "metadata": {
  "kernelspec": {
   "display_name": "base",
   "language": "python",
   "name": "python3"
  },
  "language_info": {
   "codemirror_mode": {
    "name": "ipython",
    "version": 3
   },
   "file_extension": ".py",
   "mimetype": "text/x-python",
   "name": "python",
   "nbconvert_exporter": "python",
   "pygments_lexer": "ipython3",
   "version": "3.11.5"
  },
  "orig_nbformat": 4
 },
 "nbformat": 4,
 "nbformat_minor": 2
}
