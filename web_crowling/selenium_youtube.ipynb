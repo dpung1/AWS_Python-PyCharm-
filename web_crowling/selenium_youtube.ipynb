{
 "cells": [
  {
   "cell_type": "code",
   "execution_count": 1,
   "metadata": {},
   "outputs": [],
   "source": [
    "# 검색어 [ \"아이폰15\", \"손흥민\", \"react\", \"야구\" ]\n",
    "\n",
    "# [\n",
    "#     {\n",
    "#         \"searchValue\": \"검색어\",\n",
    "#         \"data_list:\": [\n",
    "#             {\n",
    "#                 \"title\": \"\",\n",
    "#                 \"hits\": 10,\n",
    "#                 \"creator\": \"\",\n",
    "#                 \"description\": \"\",\n",
    "#                 \"url\": \"\"\n",
    "#             }\n",
    "#         ]\n",
    "#     }\n",
    "# ]"
   ]
  },
  {
   "cell_type": "code",
   "execution_count": 2,
   "metadata": {},
   "outputs": [
    {
     "ename": "TypeError",
     "evalue": "WebDriver.__init__() got an unexpected keyword argument 'executable_path'",
     "output_type": "error",
     "traceback": [
      "\u001b[0;31m---------------------------------------------------------------------------\u001b[0m",
      "\u001b[0;31mTypeError\u001b[0m                                 Traceback (most recent call last)",
      "\u001b[1;32m/Users/dp/AWS/python/basic/web_crowling/selenium_youtube.ipynb 셀 2\u001b[0m line \u001b[0;36m6\n\u001b[1;32m      <a href='vscode-notebook-cell:/Users/dp/AWS/python/basic/web_crowling/selenium_youtube.ipynb#W1sZmlsZQ%3D%3D?line=2'>3</a>\u001b[0m \u001b[39mfrom\u001b[39;00m \u001b[39mselenium\u001b[39;00m\u001b[39m.\u001b[39;00m\u001b[39mwebdriver\u001b[39;00m\u001b[39m.\u001b[39;00m\u001b[39mcommon\u001b[39;00m\u001b[39m.\u001b[39;00m\u001b[39mby\u001b[39;00m \u001b[39mimport\u001b[39;00m By\n\u001b[1;32m      <a href='vscode-notebook-cell:/Users/dp/AWS/python/basic/web_crowling/selenium_youtube.ipynb#W1sZmlsZQ%3D%3D?line=3'>4</a>\u001b[0m \u001b[39mimport\u001b[39;00m \u001b[39mtime\u001b[39;00m\n\u001b[0;32m----> <a href='vscode-notebook-cell:/Users/dp/AWS/python/basic/web_crowling/selenium_youtube.ipynb#W1sZmlsZQ%3D%3D?line=5'>6</a>\u001b[0m driver \u001b[39m=\u001b[39m webdriver\u001b[39m.\u001b[39mChrome(executable_path\u001b[39m=\u001b[39m\u001b[39m\"\u001b[39m\u001b[39mchromedriver\u001b[39m\u001b[39m\"\u001b[39m)\n\u001b[1;32m      <a href='vscode-notebook-cell:/Users/dp/AWS/python/basic/web_crowling/selenium_youtube.ipynb#W1sZmlsZQ%3D%3D?line=7'>8</a>\u001b[0m driver\u001b[39m.\u001b[39mget(\u001b[39m\"\u001b[39m\u001b[39mhttps://www.youtube.com/\u001b[39m\u001b[39m\"\u001b[39m)\n\u001b[1;32m     <a href='vscode-notebook-cell:/Users/dp/AWS/python/basic/web_crowling/selenium_youtube.ipynb#W1sZmlsZQ%3D%3D?line=9'>10</a>\u001b[0m time\u001b[39m.\u001b[39msleep(\u001b[39m1\u001b[39m)\n",
      "\u001b[0;31mTypeError\u001b[0m: WebDriver.__init__() got an unexpected keyword argument 'executable_path'"
     ]
    }
   ],
   "source": [
    "from selenium import webdriver\n",
    "from selenium.webdriver.common.keys import Keys\n",
    "from selenium.webdriver.common.by import By\n",
    "import time\n",
    "\n",
    "driver = webdriver.Chrome(executable_path=\"chromedriver\")\n",
    "\n",
    "driver.get(\"https://www.youtube.com/\")\n",
    "\n",
    "time.sleep(1)\n",
    "\n",
    "searchValues = []\n",
    "print(\"검색어를 입력해주세요.\")\n",
    "print(\"마지막은 엔터만 입력해주세요.\")\n",
    "while(True):\n",
    "    searchValue = input(\"검색: \")\n",
    "    if(searchValue == \"\"):\n",
    "        break\n",
    "    searchValues.append(searchValue)\n",
    "\n",
    "serach_list = []\n",
    "\n",
    "for searchValue in searchValues:\n",
    "    searchInput = driver.find_element(by=By.CSS_SELECTOR,  value=\"input[name='search_query']\")\n",
    "    searchInput.clear()\n",
    "    searchInput.send_keys(searchValue)\n",
    "    searchInput.send_keys(Keys.RETURN)\n",
    "    time.sleep(1)\n",
    "    \n",
    "    items = driver.find_elements(by=By.CSS_SELECTOR, value='.text-wrapper')\n",
    "    for item in items[:10]:\n",
    "        title = item.find_element(by=By.CSS_SELECTOR, value='#title-wrapper h3 #video-title')\n",
    "        title_text = title.text\n",
    "\n",
    "        hits = item.find_element(by=By.CSS_SELECTOR, value='#meta #metadata-line span.ytd-video-meta-block').text\n",
    "        hits = hits.replace(\"조회수\", \"\").replace(\" \", \"\")\n",
    "        hits = float(hits.replace(\"만회\", \"\")) * 10000 if hits[hits.find(\"회\")-1:hits.find(\"회\")] == \"만\" else float(hits.replace(\"천회\", \"\")) * 1000 if hits[hits.find(\"회\")-1:hits.find(\"회\")] == \"천\" else int(hits.replace(\"명시청중\", \"\")) if hits.find(\"명시청중\") != -1 else int(hits[:-1])\n",
    "        hits = int(hits)\n",
    "\n",
    "        creator = item.find_element(by=By.CSS_SELECTOR, value='.ytd-channel-name').text\n",
    "        description = item.find_element(by=By.CSS_SELECTOR, value='.metadata-snippet-text').text\n",
    "        url = title.get_attribute(\"href\")\n",
    "\n",
    "        item_dict = {\n",
    "            \"title\": title_text,\n",
    "            \"hits\": hits,\n",
    "            \"creator\": creator,\n",
    "            \"description\": description,\n",
    "            \"url\": url\n",
    "        }\n",
    "        print(item_dict)\n",
    "\n",
    "    # result_dict = {\n",
    "    #     \"searchValue\": searchValue,\n",
    "    #     \"data_list\": []\n",
    "    # }\n",
    "    # serach_list.append()\n"
   ]
  }
 ],
 "metadata": {
  "kernelspec": {
   "display_name": "base",
   "language": "python",
   "name": "python3"
  },
  "language_info": {
   "codemirror_mode": {
    "name": "ipython",
    "version": 3
   },
   "file_extension": ".py",
   "mimetype": "text/x-python",
   "name": "python",
   "nbconvert_exporter": "python",
   "pygments_lexer": "ipython3",
   "version": "3.11.5"
  },
  "orig_nbformat": 4
 },
 "nbformat": 4,
 "nbformat_minor": 2
}
