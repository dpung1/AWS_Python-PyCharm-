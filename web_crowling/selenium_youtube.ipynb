{
 "cells": [
  {
   "cell_type": "code",
   "execution_count": null,
   "metadata": {},
   "outputs": [],
   "source": [
    "# 검색어 [ \"아이폰15\", \"손흥민\", \"react\", \"야구\" ]\n",
    "\n",
    "# [\n",
    "#     {\n",
    "#         \"searchValue\": \"검색어\",\n",
    "#         \"data_list:\": [\n",
    "#             {\n",
    "#                 \"title\": \"\",\n",
    "#                 \"hits\": 10,\n",
    "#                 \"creator\": \"\",\n",
    "#                 \"description\": \"\",\n",
    "#                 \"url\": \"\"\n",
    "#             }\n",
    "#         ]\n",
    "#     }\n",
    "# ]"
   ]
  },
  {
   "cell_type": "code",
   "execution_count": 16,
   "metadata": {},
   "outputs": [
    {
     "name": "stdout",
     "output_type": "stream",
     "text": [
      "검색어를 입력해주세요.\n",
      "마지막은 엔터만 입력해주세요.\n"
     ]
    }
   ],
   "source": [
    "from selenium import webdriver\n",
    "from selenium.webdriver.common.keys import Keys\n",
    "from selenium.webdriver.common.by import By\n",
    "import time\n",
    "\n",
    "driver = webdriver.Chrome(executable_path=\"chromedriver\")\n",
    "\n",
    "driver.get(\"https://www.youtube.com/\")\n",
    "\n",
    "time.sleep(1)\n",
    "\n",
    "searchValues = []\n",
    "print(\"검색어를 입력해주세요.\")\n",
    "print(\"마지막은 엔터만 입력해주세요.\")\n",
    "while(True):\n",
    "    searchValue = input(\"검색: \")\n",
    "    if(searchValue == \"\"):\n",
    "        break\n",
    "    searchValues.append(searchValue)\n",
    "\n",
    "serach_list = []\n",
    "\n",
    "for searchValue in searchValues:\n",
    "    searchInput = driver.find_element(by=By.CSS_SELECTOR,  value=\"input[name='search_query']\")\n",
    "    searchInput.clear()\n",
    "    searchInput.send_keys(searchValue)\n",
    "    searchInput.send_keys(Keys.RETURN)\n",
    "    time.sleep(1)\n",
    "    \n",
    "    items = driver.find_elements(by=By.CSS_SELECTOR, value='.text-wrapper')\n",
    "    for item in items[:10]:\n",
    "        title = item.find_element(by=By.CSS_SELECTOR, value='#title-wrapper h3 #video-title')\n",
    "        title_text = title.text\n",
    "\n",
    "        hits = item.find_element(by=By.CSS_SELECTOR, value='#meta #metadata-line span.ytd-video-meta-block').text\n",
    "        hits = hits.replace(\"조회수\", \"\").replace(\" \", \"\")\n",
    "        hits = float(hits.replace(\"만회\", \"\")) * 10000 if hits[hits.find(\"회\")-1:hits.find(\"회\")] == \"만\" else float(hits.replace(\"천회\", \"\")) * 1000 if hits[hits.find(\"회\")-1:hits.find(\"회\")] == \"천\" else int(hits.replace(\"명시청중\", \"\")) if hits.find(\"명시청중\") != -1 else int(hits[:-1])\n",
    "        hits = int(hits)\n",
    "\n",
    "        creator = item.find_element(by=By.CSS_SELECTOR, value='.ytd-channel-name').text\n",
    "        description = item.find_element(by=By.CSS_SELECTOR, value='.metadata-snippet-text').text\n",
    "        url = title.get_attribute(\"href\")\n",
    "\n",
    "        item_dict = {\n",
    "            \"title\": title_text,\n",
    "            \"hits\": hits,\n",
    "            \"creator\": creator,\n",
    "            \"description\": description,\n",
    "            \"url\": url\n",
    "        }\n",
    "        print(item_dict)\n",
    "\n",
    "    # result_dict = {\n",
    "    #     \"searchValue\": searchValue,\n",
    "    #     \"data_list\": []\n",
    "    # }\n",
    "    # serach_list.append()\n"
   ]
  }
 ],
 "metadata": {
  "kernelspec": {
   "display_name": "base",
   "language": "python",
   "name": "python3"
  },
  "language_info": {
   "codemirror_mode": {
    "name": "ipython",
    "version": 3
   },
   "file_extension": ".py",
   "mimetype": "text/x-python",
   "name": "python",
   "nbconvert_exporter": "python",
   "pygments_lexer": "ipython3",
   "version": "3.11.5"
  },
  "orig_nbformat": 4
 },
 "nbformat": 4,
 "nbformat_minor": 2
}
