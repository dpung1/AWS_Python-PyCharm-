{
 "cells": [
  {
   "cell_type": "code",
   "execution_count": 3,
   "metadata": {},
   "outputs": [
    {
     "ename": "NoSuchElementException",
     "evalue": "Message: no such element: Unable to locate element: {\"method\":\"xpath\",\"selector\":\"//*[@id=\"main_pack\"]/div[2]/div/div/a[2]\"}\n  (Session info: chrome=117.0.5938.88); For documentation on this error, please visit: https://www.selenium.dev/documentation/webdriver/troubleshooting/errors#no-such-element-exception\nStacktrace:\n0   chromedriver                        0x000000010452ed58 chromedriver + 4336984\n1   chromedriver                        0x0000000104526dd4 chromedriver + 4304340\n2   chromedriver                        0x0000000104153a5c chromedriver + 293468\n3   chromedriver                        0x0000000104198d50 chromedriver + 576848\n4   chromedriver                        0x00000001041d3908 chromedriver + 817416\n5   chromedriver                        0x000000010418ca5c chromedriver + 526940\n6   chromedriver                        0x000000010418d908 chromedriver + 530696\n7   chromedriver                        0x00000001044f4da4 chromedriver + 4099492\n8   chromedriver                        0x00000001044f9260 chromedriver + 4117088\n9   chromedriver                        0x00000001044ff4ec chromedriver + 4142316\n10  chromedriver                        0x00000001044f9d60 chromedriver + 4119904\n11  chromedriver                        0x00000001044d1a34 chromedriver + 3955252\n12  chromedriver                        0x0000000104516a08 chromedriver + 4237832\n13  chromedriver                        0x0000000104516b84 chromedriver + 4238212\n14  chromedriver                        0x0000000104526a4c chromedriver + 4303436\n15  libsystem_pthread.dylib             0x000000018970ffa8 _pthread_start + 148\n16  libsystem_pthread.dylib             0x000000018970ada0 thread_start + 8\n",
     "output_type": "error",
     "traceback": [
      "\u001b[0;31m---------------------------------------------------------------------------\u001b[0m",
      "\u001b[0;31mNoSuchElementException\u001b[0m                    Traceback (most recent call last)",
      "\u001b[1;32m/Users/dp/AWS/python/basic/web_crowling/selenium_study.ipynb 셀 1\u001b[0m line \u001b[0;36m3\n\u001b[1;32m     <a href='vscode-notebook-cell:/Users/dp/AWS/python/basic/web_crowling/selenium_study.ipynb#W0sZmlsZQ%3D%3D?line=29'>30</a>\u001b[0m \u001b[39m# 뉴스타이틀 크롤링\u001b[39;00m\n\u001b[1;32m     <a href='vscode-notebook-cell:/Users/dp/AWS/python/basic/web_crowling/selenium_study.ipynb#W0sZmlsZQ%3D%3D?line=30'>31</a>\u001b[0m \u001b[39m# newsTitles = driver.find_elements(by=By.CSS_SELECTOR, value='.news_tit')\u001b[39;00m\n\u001b[1;32m     <a href='vscode-notebook-cell:/Users/dp/AWS/python/basic/web_crowling/selenium_study.ipynb#W0sZmlsZQ%3D%3D?line=31'>32</a>\u001b[0m \u001b[39m# for title in newsTitles:\u001b[39;00m\n\u001b[1;32m     <a href='vscode-notebook-cell:/Users/dp/AWS/python/basic/web_crowling/selenium_study.ipynb#W0sZmlsZQ%3D%3D?line=32'>33</a>\u001b[0m \u001b[39m#     print(title.text)\u001b[39;00m\n\u001b[1;32m     <a href='vscode-notebook-cell:/Users/dp/AWS/python/basic/web_crowling/selenium_study.ipynb#W0sZmlsZQ%3D%3D?line=34'>35</a>\u001b[0m \u001b[39mfor\u001b[39;00m i \u001b[39min\u001b[39;00m \u001b[39mrange\u001b[39m(\u001b[39m2\u001b[39m, \u001b[39m5\u001b[39m):\n\u001b[0;32m---> <a href='vscode-notebook-cell:/Users/dp/AWS/python/basic/web_crowling/selenium_study.ipynb#W0sZmlsZQ%3D%3D?line=35'>36</a>\u001b[0m     driver\u001b[39m.\u001b[39mfind_element(by\u001b[39m=\u001b[39mBy\u001b[39m.\u001b[39mXPATH, value\u001b[39m=\u001b[39m\u001b[39mf\u001b[39m\u001b[39m'\u001b[39m\u001b[39m//*[@id=\u001b[39m\u001b[39m\"\u001b[39m\u001b[39mmain_pack\u001b[39m\u001b[39m\"\u001b[39m\u001b[39m]/div[2]/div/div/a[\u001b[39m\u001b[39m{\u001b[39;00mi\u001b[39m}\u001b[39;00m\u001b[39m]\u001b[39m\u001b[39m'\u001b[39m)\u001b[39m.\u001b[39mclick()\n\u001b[1;32m     <a href='vscode-notebook-cell:/Users/dp/AWS/python/basic/web_crowling/selenium_study.ipynb#W0sZmlsZQ%3D%3D?line=36'>37</a>\u001b[0m     time\u001b[39m.\u001b[39msleep(\u001b[39m2\u001b[39m)\n\u001b[1;32m     <a href='vscode-notebook-cell:/Users/dp/AWS/python/basic/web_crowling/selenium_study.ipynb#W0sZmlsZQ%3D%3D?line=37'>38</a>\u001b[0m     \u001b[39m# newsTitles = driver.find_elements(by=By.CSS_SELECTOR, value='.news_tit')\u001b[39;00m\n\u001b[1;32m     <a href='vscode-notebook-cell:/Users/dp/AWS/python/basic/web_crowling/selenium_study.ipynb#W0sZmlsZQ%3D%3D?line=38'>39</a>\u001b[0m     \u001b[39m# for title in newsTitles:\u001b[39;00m\n\u001b[1;32m     <a href='vscode-notebook-cell:/Users/dp/AWS/python/basic/web_crowling/selenium_study.ipynb#W0sZmlsZQ%3D%3D?line=39'>40</a>\u001b[0m     \u001b[39m#     print(title.get_attribute(name=\"href\"))\u001b[39;00m\n",
      "File \u001b[0;32m~/anaconda3/lib/python3.11/site-packages/selenium/webdriver/remote/webdriver.py:738\u001b[0m, in \u001b[0;36mWebDriver.find_element\u001b[0;34m(self, by, value)\u001b[0m\n\u001b[1;32m    735\u001b[0m     by \u001b[39m=\u001b[39m By\u001b[39m.\u001b[39mCSS_SELECTOR\n\u001b[1;32m    736\u001b[0m     value \u001b[39m=\u001b[39m \u001b[39mf\u001b[39m\u001b[39m'\u001b[39m\u001b[39m[name=\u001b[39m\u001b[39m\"\u001b[39m\u001b[39m{\u001b[39;00mvalue\u001b[39m}\u001b[39;00m\u001b[39m\"\u001b[39m\u001b[39m]\u001b[39m\u001b[39m'\u001b[39m\n\u001b[0;32m--> 738\u001b[0m \u001b[39mreturn\u001b[39;00m \u001b[39mself\u001b[39m\u001b[39m.\u001b[39mexecute(Command\u001b[39m.\u001b[39mFIND_ELEMENT, {\u001b[39m\"\u001b[39m\u001b[39musing\u001b[39m\u001b[39m\"\u001b[39m: by, \u001b[39m\"\u001b[39m\u001b[39mvalue\u001b[39m\u001b[39m\"\u001b[39m: value})[\u001b[39m\"\u001b[39m\u001b[39mvalue\u001b[39m\u001b[39m\"\u001b[39m]\n",
      "File \u001b[0;32m~/anaconda3/lib/python3.11/site-packages/selenium/webdriver/remote/webdriver.py:344\u001b[0m, in \u001b[0;36mWebDriver.execute\u001b[0;34m(self, driver_command, params)\u001b[0m\n\u001b[1;32m    342\u001b[0m response \u001b[39m=\u001b[39m \u001b[39mself\u001b[39m\u001b[39m.\u001b[39mcommand_executor\u001b[39m.\u001b[39mexecute(driver_command, params)\n\u001b[1;32m    343\u001b[0m \u001b[39mif\u001b[39;00m response:\n\u001b[0;32m--> 344\u001b[0m     \u001b[39mself\u001b[39m\u001b[39m.\u001b[39merror_handler\u001b[39m.\u001b[39mcheck_response(response)\n\u001b[1;32m    345\u001b[0m     response[\u001b[39m\"\u001b[39m\u001b[39mvalue\u001b[39m\u001b[39m\"\u001b[39m] \u001b[39m=\u001b[39m \u001b[39mself\u001b[39m\u001b[39m.\u001b[39m_unwrap_value(response\u001b[39m.\u001b[39mget(\u001b[39m\"\u001b[39m\u001b[39mvalue\u001b[39m\u001b[39m\"\u001b[39m, \u001b[39mNone\u001b[39;00m))\n\u001b[1;32m    346\u001b[0m     \u001b[39mreturn\u001b[39;00m response\n",
      "File \u001b[0;32m~/anaconda3/lib/python3.11/site-packages/selenium/webdriver/remote/errorhandler.py:229\u001b[0m, in \u001b[0;36mErrorHandler.check_response\u001b[0;34m(self, response)\u001b[0m\n\u001b[1;32m    227\u001b[0m         alert_text \u001b[39m=\u001b[39m value[\u001b[39m\"\u001b[39m\u001b[39malert\u001b[39m\u001b[39m\"\u001b[39m]\u001b[39m.\u001b[39mget(\u001b[39m\"\u001b[39m\u001b[39mtext\u001b[39m\u001b[39m\"\u001b[39m)\n\u001b[1;32m    228\u001b[0m     \u001b[39mraise\u001b[39;00m exception_class(message, screen, stacktrace, alert_text)  \u001b[39m# type: ignore[call-arg]  # mypy is not smart enough here\u001b[39;00m\n\u001b[0;32m--> 229\u001b[0m \u001b[39mraise\u001b[39;00m exception_class(message, screen, stacktrace)\n",
      "\u001b[0;31mNoSuchElementException\u001b[0m: Message: no such element: Unable to locate element: {\"method\":\"xpath\",\"selector\":\"//*[@id=\"main_pack\"]/div[2]/div/div/a[2]\"}\n  (Session info: chrome=117.0.5938.88); For documentation on this error, please visit: https://www.selenium.dev/documentation/webdriver/troubleshooting/errors#no-such-element-exception\nStacktrace:\n0   chromedriver                        0x000000010452ed58 chromedriver + 4336984\n1   chromedriver                        0x0000000104526dd4 chromedriver + 4304340\n2   chromedriver                        0x0000000104153a5c chromedriver + 293468\n3   chromedriver                        0x0000000104198d50 chromedriver + 576848\n4   chromedriver                        0x00000001041d3908 chromedriver + 817416\n5   chromedriver                        0x000000010418ca5c chromedriver + 526940\n6   chromedriver                        0x000000010418d908 chromedriver + 530696\n7   chromedriver                        0x00000001044f4da4 chromedriver + 4099492\n8   chromedriver                        0x00000001044f9260 chromedriver + 4117088\n9   chromedriver                        0x00000001044ff4ec chromedriver + 4142316\n10  chromedriver                        0x00000001044f9d60 chromedriver + 4119904\n11  chromedriver                        0x00000001044d1a34 chromedriver + 3955252\n12  chromedriver                        0x0000000104516a08 chromedriver + 4237832\n13  chromedriver                        0x0000000104516b84 chromedriver + 4238212\n14  chromedriver                        0x0000000104526a4c chromedriver + 4303436\n15  libsystem_pthread.dylib             0x000000018970ffa8 _pthread_start + 148\n16  libsystem_pthread.dylib             0x000000018970ada0 thread_start + 8\n"
     ]
    }
   ],
   "source": [
    "# 크롬 드라이버\n",
    "from selenium import webdriver\n",
    "from selenium.webdriver.common.keys import Keys\n",
    "from selenium.webdriver.common.by import By\n",
    "\n",
    "import time\n",
    "\n",
    "driver = webdriver.Chrome()\n",
    "\n",
    "driver.get('https://www.naver.com/')\n",
    "\n",
    "time.sleep(3)\n",
    "\n",
    "searchValue = input(\"검색어 입력: \")\n",
    "\n",
    "searchInput = driver.find_element(by=By.CSS_SELECTOR, value=\"#query\")\n",
    "searchInput.send_keys(searchValue) # 입력\n",
    "searchInput.send_keys(Keys.RETURN) # 엔터\n",
    "\n",
    "time.sleep(2)\n",
    "\n",
    "# 오른쪽으로 이동버튼 클릭\n",
    "driver.find_element(by=By.XPATH, value='//*[@id=\"lnb\"]/div[1]/div/div[1]/div/div[2]/div[2]/a').click()\n",
    "time.sleep(1)\n",
    "\n",
    "#뉴스탭 클릭\n",
    "driver.find_element(by=By.XPATH, value='//*[@id=\"lnb\"]/div[1]/div/div[1]/div/div[1]/div[2]/a').click()\n",
    "time.sleep(2)\n",
    "\n",
    "# 뉴스타이틀 크롤링\n",
    "# newsTitles = driver.find_elements(by=By.CSS_SELECTOR, value='.news_tit')\n",
    "# for title in newsTitles:\n",
    "#     print(title.text)\n",
    "\n",
    "for i in range(2, 5):\n",
    "    driver.find_element(by=By.XPATH, value=f'//*[@id=\"main_pack\"]/div[2]/div/div/a[{i}]').click()\n",
    "    time.sleep(2)\n",
    "    # newsTitles = driver.find_elements(by=By.CSS_SELECTOR, value='.news_tit')\n",
    "    # for title in newsTitles:\n",
    "    #     print(title.get_attribute(name=\"href\"))\n",
    "    newsImages = driver.find_elements(by=By.CSS_SELECTOR, value=f'.dsc_thumb .thumb')\n",
    "    for img in newsImages:\n",
    "        print(img.get_attribute(name=\"src\"))\n",
    "\n",
    "\n",
    "# 웹툰 출력 예시 \n",
    "# webToonList = [\n",
    "#     {\n",
    "#         \"dayOfTheWeek\" : \"월\",\n",
    "#         \"webtoon\": [\n",
    "#             {\n",
    "#                 \"title\": \"참교육\",\n",
    "#                 \"author\": \"채용택 / 한가람\",\n",
    "#                 \"grade\" : 9.87,\n",
    "#                 \"postImage\": \"http:s//llllllllll.jpg\"\n",
    "#             },\n",
    "#         ]\n",
    "#     },\n",
    "# ]\n"
   ]
  },
  {
   "cell_type": "markdown",
   "metadata": {},
   "source": []
  }
 ],
 "metadata": {
  "kernelspec": {
   "display_name": "base",
   "language": "python",
   "name": "python3"
  },
  "language_info": {
   "codemirror_mode": {
    "name": "ipython",
    "version": 3
   },
   "file_extension": ".py",
   "mimetype": "text/x-python",
   "name": "python",
   "nbconvert_exporter": "python",
   "pygments_lexer": "ipython3",
   "version": "3.11.5"
  },
  "orig_nbformat": 4
 },
 "nbformat": 4,
 "nbformat_minor": 2
}
