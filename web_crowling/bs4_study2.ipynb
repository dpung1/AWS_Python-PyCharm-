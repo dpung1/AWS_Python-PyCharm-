{
 "cells": [
  {
   "cell_type": "code",
   "execution_count": 4,
   "metadata": {},
   "outputs": [
    {
     "name": "stdout",
     "output_type": "stream",
     "text": [
      "https://thumbnail10.coupangcdn.com/thumbnails/remote/230x230ex/image/retail/images/3671196941445019-5989f3aa-a942-44e8-bacd-fb4e093aa71c.jpg\n",
      "https://thumbnail6.coupangcdn.com/thumbnails/remote/230x230ex/image/retail/images/4173917782382193-aecaab22-634d-4570-8e6f-0cad29b2149e.jpg\n",
      "https://thumbnail6.coupangcdn.com/thumbnails/remote/230x230ex/image/retail/images/2023/08/11/17/6/ed6a339d-0284-4516-a9e3-65c6c0d13bca.jpg\n",
      "https://thumbnail10.coupangcdn.com/thumbnails/remote/230x230ex/image/product/image/vendoritem/2019/02/15/3025312682/7f05b638-a55a-4037-8e76-1035974e7d86.jpg\n",
      "https://thumbnail9.coupangcdn.com/thumbnails/remote/230x230ex/image/retail/images/2023/08/16/18/1/11edc5e5-d4b8-475d-aacf-df3002e519bc.jpg\n",
      "https://thumbnail7.coupangcdn.com/thumbnails/remote/230x230ex/image/retail/images/1489653006914303-966acf23-cc0e-4c82-86b3-a60ec00416a7.jpg\n",
      "https://thumbnail7.coupangcdn.com/thumbnails/remote/230x230ex/image/retail/images/457539561315-406c6eff-2e95-4b8f-8f07-d916ae3a6b61.jpg\n",
      "https://thumbnail9.coupangcdn.com/thumbnails/remote/230x230ex/image/retail/images/2023/08/11/15/1/62786b28-5dca-407d-a228-92e3aeebc4fd.jpg\n",
      "https://thumbnail10.coupangcdn.com/thumbnails/remote/230x230ex/image/retail/images/702510257453650-55ca429c-1a8e-4385-b70b-1a6dcd0eaffd.jpg\n",
      "https://thumbnail9.coupangcdn.com/thumbnails/remote/230x230ex/image/retail/images/1868430085607403-b15e6f7c-1c9a-427d-b49d-40e5b387a5db.jpg\n",
      "https://thumbnail6.coupangcdn.com/thumbnails/remote/230x230ex/image/retail/images/7537201921766957-699400a0-f754-431d-b18b-a3ebd86423fc.jpg\n",
      "https://thumbnail9.coupangcdn.com/thumbnails/remote/230x230ex/image/retail/images/1066053389089338-5e0dd077-2d91-4609-8f9c-4860cb640c1b.jpg\n"
     ]
    }
   ],
   "source": [
    "import requests\n",
    "from bs4 import BeautifulSoup as bs\n",
    "\n",
    "\n",
    "url = \"https://pages.coupang.com/p/96636\"\n",
    "\n",
    "response = requests.get(url)\n",
    "\n",
    "html = bs(response.text)\n",
    "\n",
    "# Img 크롤링 방법 (Select of Find_All)\n",
    "\n",
    "imgs = html.select(\".sale_point_product__product_image > img\")\n",
    "# imgs\n",
    "for img in imgs:\n",
    "    if bool(img.get(\"lazy-load\")):\n",
    "        print(\"https://\" + img.get(\"lazy-load\")[2:]) \n",
    "\n",
    "# divs = html.find_all(\"div\", class_=\"sale_point_product__product_image\")\n",
    "# # divs\n",
    "# for div in divs:\n",
    "#     img = div.find(\"img\")\n",
    "#     if bool(img.get(\"lazy-load\")):\n",
    "#         print(\"https:\" + img.get(\"lazy-load\"))\n",
    "\n"
   ]
  }
 ],
 "metadata": {
  "kernelspec": {
   "display_name": "base",
   "language": "python",
   "name": "python3"
  },
  "language_info": {
   "codemirror_mode": {
    "name": "ipython",
    "version": 3
   },
   "file_extension": ".py",
   "mimetype": "text/x-python",
   "name": "python",
   "nbconvert_exporter": "python",
   "pygments_lexer": "ipython3",
   "version": "3.11.5"
  },
  "orig_nbformat": 4
 },
 "nbformat": 4,
 "nbformat_minor": 2
}
