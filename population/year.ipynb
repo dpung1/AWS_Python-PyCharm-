{
 "cells": [
  {
   "cell_type": "code",
   "execution_count": 5,
   "metadata": {},
   "outputs": [],
   "source": [
    "import pandas as pd\n",
    "import matplotlib.pyplot as plt"
   ]
  },
  {
   "cell_type": "code",
   "execution_count": 6,
   "metadata": {},
   "outputs": [],
   "source": [
    "data = pd.read_csv(\"202108_202308_주민등록인구및세대현황_월간.csv\", encoding=\"cp949\")\n"
   ]
  },
  {
   "cell_type": "code",
   "execution_count": null,
   "metadata": {},
   "outputs": [],
   "source": [
    "dataDict = {}\n",
    "for i in range(1, len(data)):\n",
    "    dataDict[data.iloc[i, 0]] = data.iloc[1, range(i, len(data.columns), 6)]\n",
    "print(\"\\n===============[ 모든 정보 조회 ]===============\")\n",
    "print(dataDict)"
   ]
  },
  {
   "cell_type": "code",
   "execution_count": 12,
   "metadata": {},
   "outputs": [
    {
     "name": "stdout",
     "output_type": "stream",
     "text": [
      "\n",
      "===============[ 행정구역별 검색 ]===============\n"
     ]
    },
    {
     "ename": "AttributeError",
     "evalue": "'int' object has no attribute 'get_gridspec'",
     "output_type": "error",
     "traceback": [
      "\u001b[0;31m---------------------------------------------------------------------------\u001b[0m",
      "\u001b[0;31mAttributeError\u001b[0m                            Traceback (most recent call last)",
      "\u001b[1;32m/Users/dp/AWS/python/basic/population/year.ipynb 셀 4\u001b[0m line \u001b[0;36m9\n\u001b[1;32m      <a href='vscode-notebook-cell:/Users/dp/AWS/python/basic/population/year.ipynb#W4sZmlsZQ%3D%3D?line=6'>7</a>\u001b[0m \u001b[39m# print(findData)\u001b[39;00m\n\u001b[1;32m      <a href='vscode-notebook-cell:/Users/dp/AWS/python/basic/population/year.ipynb#W4sZmlsZQ%3D%3D?line=7'>8</a>\u001b[0m figure \u001b[39m=\u001b[39m plt\u001b[39m.\u001b[39mfigure()\n\u001b[0;32m----> <a href='vscode-notebook-cell:/Users/dp/AWS/python/basic/population/year.ipynb#W4sZmlsZQ%3D%3D?line=8'>9</a>\u001b[0m axes \u001b[39m=\u001b[39m figure\u001b[39m.\u001b[39madd_subfigure(\u001b[39m111\u001b[39m)\n\u001b[1;32m     <a href='vscode-notebook-cell:/Users/dp/AWS/python/basic/population/year.ipynb#W4sZmlsZQ%3D%3D?line=10'>11</a>\u001b[0m axes\u001b[39m.\u001b[39mpie([findData], findData\u001b[39m.\u001b[39mindex\u001b[39m.\u001b[39mvelues)\n\u001b[1;32m     <a href='vscode-notebook-cell:/Users/dp/AWS/python/basic/population/year.ipynb#W4sZmlsZQ%3D%3D?line=11'>12</a>\u001b[0m plt\u001b[39m.\u001b[39mshow()\n",
      "File \u001b[0;32m~/anaconda3/lib/python3.11/site-packages/matplotlib/figure.py:1639\u001b[0m, in \u001b[0;36mFigureBase.add_subfigure\u001b[0;34m(self, subplotspec, **kwargs)\u001b[0m\n\u001b[1;32m   1616\u001b[0m \u001b[39mdef\u001b[39;00m \u001b[39madd_subfigure\u001b[39m(\u001b[39mself\u001b[39m, subplotspec, \u001b[39m*\u001b[39m\u001b[39m*\u001b[39mkwargs):\n\u001b[1;32m   1617\u001b[0m \u001b[39m    \u001b[39m\u001b[39m\"\"\"\u001b[39;00m\n\u001b[1;32m   1618\u001b[0m \u001b[39m    Add a `.SubFigure` to the figure as part of a subplot arrangement.\u001b[39;00m\n\u001b[1;32m   1619\u001b[0m \n\u001b[0;32m   (...)\u001b[0m\n\u001b[1;32m   1637\u001b[0m \u001b[39m    .Figure.subfigures\u001b[39;00m\n\u001b[1;32m   1638\u001b[0m \u001b[39m    \"\"\"\u001b[39;00m\n\u001b[0;32m-> 1639\u001b[0m     sf \u001b[39m=\u001b[39m SubFigure(\u001b[39mself\u001b[39m, subplotspec, \u001b[39m*\u001b[39m\u001b[39m*\u001b[39mkwargs)\n\u001b[1;32m   1640\u001b[0m     \u001b[39mself\u001b[39m\u001b[39m.\u001b[39msubfigs \u001b[39m+\u001b[39m\u001b[39m=\u001b[39m [sf]\n\u001b[1;32m   1641\u001b[0m     \u001b[39mreturn\u001b[39;00m sf\n",
      "File \u001b[0;32m~/anaconda3/lib/python3.11/site-packages/matplotlib/figure.py:2240\u001b[0m, in \u001b[0;36mSubFigure.__init__\u001b[0;34m(self, parent, subplotspec, facecolor, edgecolor, linewidth, frameon, **kwargs)\u001b[0m\n\u001b[1;32m   2238\u001b[0m \u001b[39mself\u001b[39m\u001b[39m.\u001b[39mtransFigure \u001b[39m=\u001b[39m parent\u001b[39m.\u001b[39mtransFigure\n\u001b[1;32m   2239\u001b[0m \u001b[39mself\u001b[39m\u001b[39m.\u001b[39mbbox_relative \u001b[39m=\u001b[39m \u001b[39mNone\u001b[39;00m\n\u001b[0;32m-> 2240\u001b[0m \u001b[39mself\u001b[39m\u001b[39m.\u001b[39m_redo_transform_rel_fig()\n\u001b[1;32m   2241\u001b[0m \u001b[39mself\u001b[39m\u001b[39m.\u001b[39mfigbbox \u001b[39m=\u001b[39m \u001b[39mself\u001b[39m\u001b[39m.\u001b[39m_parent\u001b[39m.\u001b[39mfigbbox\n\u001b[1;32m   2242\u001b[0m \u001b[39mself\u001b[39m\u001b[39m.\u001b[39mbbox \u001b[39m=\u001b[39m TransformedBbox(\u001b[39mself\u001b[39m\u001b[39m.\u001b[39mbbox_relative,\n\u001b[1;32m   2243\u001b[0m                             \u001b[39mself\u001b[39m\u001b[39m.\u001b[39m_parent\u001b[39m.\u001b[39mtransSubfigure)\n",
      "File \u001b[0;32m~/anaconda3/lib/python3.11/site-packages/matplotlib/figure.py:2297\u001b[0m, in \u001b[0;36mSubFigure._redo_transform_rel_fig\u001b[0;34m(self, bbox)\u001b[0m\n\u001b[1;32m   2295\u001b[0m     \u001b[39mreturn\u001b[39;00m\n\u001b[1;32m   2296\u001b[0m \u001b[39m# need to figure out *where* this subplotspec is.\u001b[39;00m\n\u001b[0;32m-> 2297\u001b[0m gs \u001b[39m=\u001b[39m \u001b[39mself\u001b[39m\u001b[39m.\u001b[39m_subplotspec\u001b[39m.\u001b[39mget_gridspec()\n\u001b[1;32m   2298\u001b[0m wr \u001b[39m=\u001b[39m np\u001b[39m.\u001b[39masarray(gs\u001b[39m.\u001b[39mget_width_ratios())\n\u001b[1;32m   2299\u001b[0m hr \u001b[39m=\u001b[39m np\u001b[39m.\u001b[39masarray(gs\u001b[39m.\u001b[39mget_height_ratios())\n",
      "\u001b[0;31mAttributeError\u001b[0m: 'int' object has no attribute 'get_gridspec'"
     ]
    },
    {
     "data": {
      "text/plain": [
       "<Figure size 640x480 with 0 Axes>"
      ]
     },
     "metadata": {},
     "output_type": "display_data"
    }
   ],
   "source": [
    "name = input(\"행정구역을 입력하세요.\")\n",
    "print(\"\\n===============[ 행정구역별 검색 ]===============\")\n",
    "for i, j in dataDict.items():\n",
    "    if name in i:\n",
    "        findData = (dataDict.get(i))\n",
    "\n",
    "# print(findData)\n",
    "figure = plt.figure()\n",
    "axes = figure.add_subfigure(111)\n",
    "\n",
    "axes.pie(findData[\"\"], findData.index.velues)\n",
    "plt.show()"
   ]
  }
 ],
 "metadata": {
  "kernelspec": {
   "display_name": "base",
   "language": "python",
   "name": "python3"
  },
  "language_info": {
   "codemirror_mode": {
    "name": "ipython",
    "version": 3
   },
   "file_extension": ".py",
   "mimetype": "text/x-python",
   "name": "python",
   "nbconvert_exporter": "python",
   "pygments_lexer": "ipython3",
   "version": "3.11.5"
  },
  "orig_nbformat": 4
 },
 "nbformat": 4,
 "nbformat_minor": 2
}
